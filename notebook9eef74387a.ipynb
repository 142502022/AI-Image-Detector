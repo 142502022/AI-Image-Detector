{
 "cells": [
  {
   "cell_type": "markdown",
   "id": "1d57f60a",
   "metadata": {
    "papermill": {
     "duration": 0.003833,
     "end_time": "2025-09-15T19:36:40.176521",
     "exception": false,
     "start_time": "2025-09-15T19:36:40.172688",
     "status": "completed"
    },
    "tags": []
   },
   "source": [
    "# Basic classification using timm and albumentations \n",
    "\n",
    "- **timm** It is a collection of pretrained models for computer vision tasks, including:\n",
    "  *Convolutional Neural Networks (CNNs)*: Use convolution layers to capture local patterns like edges and textures.\n",
    "*Vision Transformers (ViTs)*: Use self-attention to capture global relationships across an image.\n",
    "*EfficientNet*: A family of CNNs that scale depth, width, and resolution efficiently for high accuracy with fewer parameters.\n",
    "*Hybrid Architectures*: Combine CNNs and Transformers to leverage both local and global feature learning.\n",
    "- **albumentations** A fast and flexible image augmentation library widely used in computer vision.\n",
    "- Provides geometric transforms: rotations, flips, cropping, scaling, etc.\n",
    "- Provides photometric transforms: color shifts, brightness/contrast, noise, etc.\n",
    "- Includes advanced augmentations: blur, cutout, CLAHE (Contrast Limited Adaptive Histogram Equalization), elastic transforms.\n",
    "- Optimized for speed and efficiency, often faster than PIL/OpenCV on large datasets.\n"
   ]
  },
  {
   "cell_type": "markdown",
   "id": "99d7a828",
   "metadata": {
    "papermill": {
     "duration": 0.002679,
     "end_time": "2025-09-15T19:36:40.182279",
     "exception": false,
     "start_time": "2025-09-15T19:36:40.179600",
     "status": "completed"
    },
    "tags": []
   },
   "source": [
    "# Binary Classification Problem:\n",
    "- **Input (x)**: An image represented as real values in shape H × W × C, where\n",
    "H = Height\n",
    "W = Width\n",
    "C = Channels (1 for grayscale, 3 for RGB).\n",
    "- **Output (y)**: A binary label where\n",
    "y = 0 → Human/Real Image\n",
    "y = 1 → AI-Generated Image\n"
   ]
  },
  {
   "cell_type": "code",
   "execution_count": 1,
   "id": "8c2ef822",
   "metadata": {
    "_cell_guid": "b1076dfc-b9ad-4769-8c92-a6c4dae69d19",
    "_uuid": "8f2839f25d086af736a60e9eeb907d3b93b6e0e5",
    "execution": {
     "iopub.execute_input": "2025-09-15T19:36:40.188974Z",
     "iopub.status.busy": "2025-09-15T19:36:40.188692Z",
     "iopub.status.idle": "2025-09-15T19:36:56.231355Z",
     "shell.execute_reply": "2025-09-15T19:36:56.230745Z"
    },
    "papermill": {
     "duration": 16.047658,
     "end_time": "2025-09-15T19:36:56.232714",
     "exception": false,
     "start_time": "2025-09-15T19:36:40.185056",
     "status": "completed"
    },
    "tags": []
   },
   "outputs": [],
   "source": [
    "import os\n",
    "import pandas as pd\n",
    "import numpy as np\n",
    "from sklearn.model_selection import train_test_split\n",
    "\n",
    "import timm\n",
    "import albumentations as albu\n",
    "from albumentations.pytorch import ToTensorV2\n",
    "\n",
    "from PIL import Image\n",
    "import torch\n",
    "from torch.utils.data import Dataset\n",
    "import torch.nn as nn\n",
    "from torch.optim import AdamW, Adam\n",
    "from torch.optim.lr_scheduler import StepLR\n",
    "\n",
    "from sklearn.metrics import f1_score\n",
    "from tqdm import tqdm\n",
    "import copy"
   ]
  },
  {
   "cell_type": "code",
   "execution_count": null,
   "id": "1aa53978",
   "metadata": {
    "papermill": {
     "duration": 0.002693,
     "end_time": "2025-09-15T19:36:56.238534",
     "exception": false,
     "start_time": "2025-09-15T19:36:56.235841",
     "status": "completed"
    },
    "tags": []
   },
   "outputs": [],
   "source": []
  },
  {
   "cell_type": "code",
   "execution_count": 2,
   "id": "bc11fe93",
   "metadata": {
    "execution": {
     "iopub.execute_input": "2025-09-15T19:36:56.244802Z",
     "iopub.status.busy": "2025-09-15T19:36:56.244562Z",
     "iopub.status.idle": "2025-09-15T19:36:56.250057Z",
     "shell.execute_reply": "2025-09-15T19:36:56.249499Z"
    },
    "papermill": {
     "duration": 0.009871,
     "end_time": "2025-09-15T19:36:56.251094",
     "exception": false,
     "start_time": "2025-09-15T19:36:56.241223",
     "status": "completed"
    },
    "tags": []
   },
   "outputs": [],
   "source": [
    "class CustomDataset(Dataset):\n",
    "    def __init__(self, df, data_dir, transforms=None, is_train=True):\n",
    "        \"\"\"\n",
    "        Args:\n",
    "            df (pd.DataFrame): DataFrame containing file names and labels.\n",
    "            data_dir (str): Directory where the image files are stored.\n",
    "            transforms (albu.Compose, optional): Albumentations transforms to apply to the images.\n",
    "            is_train (bool, optional): Flag to indicate if the dataset is for training.\n",
    "        \"\"\"\n",
    "        self.df = df\n",
    "        self.data_dir = data_dir\n",
    "        self.transforms = transforms\n",
    "        self.is_train = is_train\n",
    "\n",
    "    def __len__(self):\n",
    "        return len(self.df)\n",
    "\n",
    "    def __getitem__(self, idx):\n",
    "        # Extract the file name and label\n",
    "        filename = self.df.iloc[idx]['file_name']\n",
    "        label = self.df.iloc[idx]['label']\n",
    "\n",
    "        # Load the image\n",
    "        img_path = os.path.join(self.data_dir, filename)\n",
    "        image = Image.open(img_path).convert('RGB')  # Ensure image is in RGB mode\n",
    "        image = np.array(image)  # Convert to NumPy array (Albumentations requires this format)\n",
    "\n",
    "        # Apply transforms if specified\n",
    "        if self.transforms:\n",
    "            image = self.transforms(image=image)['image']\n",
    "\n",
    "        # For training, return the image and label\n",
    "        if self.is_train:\n",
    "            return image, label\n",
    "        # For inference, return only the image\n",
    "        else:\n",
    "            return image\n"
   ]
  },
  {
   "cell_type": "code",
   "execution_count": 3,
   "id": "5c807290",
   "metadata": {
    "execution": {
     "iopub.execute_input": "2025-09-15T19:36:56.257635Z",
     "iopub.status.busy": "2025-09-15T19:36:56.257456Z",
     "iopub.status.idle": "2025-09-15T19:36:58.156064Z",
     "shell.execute_reply": "2025-09-15T19:36:58.155263Z"
    },
    "papermill": {
     "duration": 1.9036,
     "end_time": "2025-09-15T19:36:58.157476",
     "exception": false,
     "start_time": "2025-09-15T19:36:56.253876",
     "status": "completed"
    },
    "tags": []
   },
   "outputs": [
    {
     "name": "stdout",
     "output_type": "stream",
     "text": [
      "Using 1000 samples for quick training\n",
      "Train samples: 700, Validation samples: 300\n",
      "Train batch: torch.Size([32, 3, 224, 224]) torch.Size([32])\n",
      "Validation batch: torch.Size([32, 3, 224, 224]) torch.Size([32])\n"
     ]
    }
   ],
   "source": [
    "# Constants - Reduced for quick training\n",
    "BATCH_SIZE = 32  # Increased batch size for faster training\n",
    "SEED = 42\n",
    "IMG_SIZE = 224  # Reduced image size for faster processing\n",
    "SAMPLE_SIZE = 1000  # Very small sample for quick testing\n",
    "\n",
    "# Load the train CSV\n",
    "train_csv_path = \"/kaggle/input/ai-vs-human-generated-dataset/train.csv\"\n",
    "train_df = pd.read_csv(train_csv_path)\n",
    "\n",
    "# Take a very small sample for quick debugging\n",
    "train_df = train_df.sample(n=SAMPLE_SIZE, random_state=SEED)\n",
    "print(f\"Using {len(train_df)} samples for quick training\")\n",
    "\n",
    "# Define the base directory where images are stored\n",
    "train_data_dir = \"/kaggle/input/ai-vs-human-generated-dataset/\"\n",
    "\n",
    "# Train & validation split\n",
    "train_df, val_df = train_test_split(\n",
    "    train_df, test_size=0.3, random_state=SEED, stratify=train_df['label']\n",
    ")\n",
    "\n",
    "print(f\"Train samples: {len(train_df)}, Validation samples: {len(val_df)}\")\n",
    "\n",
    "# Transformations - Simplified for speed\n",
    "train_transform = albu.Compose([\n",
    "    albu.HorizontalFlip(p=0.5),\n",
    "    albu.Resize(IMG_SIZE, IMG_SIZE),\n",
    "    albu.Normalize(mean=(0.485, 0.456, 0.406), std=(0.229, 0.224, 0.225)),\n",
    "    ToTensorV2()\n",
    "])\n",
    "\n",
    "val_transform = albu.Compose([\n",
    "    albu.Resize(IMG_SIZE, IMG_SIZE),\n",
    "    albu.Normalize(mean=(0.485, 0.456, 0.406), std=(0.229, 0.224, 0.225)),\n",
    "    ToTensorV2()\n",
    "])\n",
    "\n",
    "# Dataset and DataLoader\n",
    "train_dataset = CustomDataset(train_df, train_data_dir, transforms=train_transform, is_train=True)\n",
    "train_dataloader = torch.utils.data.DataLoader(train_dataset, batch_size=BATCH_SIZE, shuffle=True, num_workers=2)\n",
    "\n",
    "# Fixed: Set is_train=True for validation dataset to return labels\n",
    "val_dataset = CustomDataset(val_df, train_data_dir, transforms=val_transform, is_train=True)\n",
    "val_dataloader = torch.utils.data.DataLoader(val_dataset, batch_size=BATCH_SIZE, shuffle=False, num_workers=2)\n",
    "\n",
    "# Test iteration\n",
    "for images, labels in train_dataloader:\n",
    "    print(\"Train batch:\", images.shape, labels.shape)\n",
    "    break\n",
    "\n",
    "for images, labels in val_dataloader:\n",
    "    print(\"Validation batch:\", images.shape, labels.shape)\n",
    "    break\n"
   ]
  },
  {
   "cell_type": "code",
   "execution_count": 4,
   "id": "05739a69",
   "metadata": {
    "execution": {
     "iopub.execute_input": "2025-09-15T19:36:58.165221Z",
     "iopub.status.busy": "2025-09-15T19:36:58.164942Z",
     "iopub.status.idle": "2025-09-15T19:36:59.201355Z",
     "shell.execute_reply": "2025-09-15T19:36:59.200629Z"
    },
    "papermill": {
     "duration": 1.041498,
     "end_time": "2025-09-15T19:36:59.202523",
     "exception": false,
     "start_time": "2025-09-15T19:36:58.161025",
     "status": "completed"
    },
    "tags": []
   },
   "outputs": [
    {
     "data": {
      "application/vnd.jupyter.widget-view+json": {
       "model_id": "88e00b2c1b154a8abc362dc420cba9de",
       "version_major": 2,
       "version_minor": 0
      },
      "text/plain": [
       "model.safetensors:   0%|          | 0.00/86.5M [00:00<?, ?B/s]"
      ]
     },
     "metadata": {},
     "output_type": "display_data"
    },
    {
     "name": "stdout",
     "output_type": "stream",
     "text": [
      "Using device: cuda\n"
     ]
    }
   ],
   "source": [
    "# Fixed training configuration\n",
    "LR = 1e-3  # Much higher learning rate for faster convergence\n",
    "NUM_EPOCHS = 5  # More epochs to see actual learning\n",
    "\n",
    "model = timm.create_model('tf_efficientnetv2_s.in21k_ft_in1k', \n",
    "                          pretrained=True,\n",
    "                         num_classes=2)\n",
    "\n",
    "optimizer = Adam(model.parameters(), lr=LR, weight_decay=1e-4)  # Reduced weight decay\n",
    "scheduler = StepLR(optimizer, step_size=2, gamma=0.5)  # Less aggressive decay\n",
    "loss_fn = nn.CrossEntropyLoss()\n",
    "\n",
    "device = torch.device('cuda' if torch.cuda.is_available() else 'cpu')\n",
    "print(f\"Using device: {device}\")"
   ]
  },
  {
   "cell_type": "code",
   "execution_count": 5,
   "id": "61fd17ed",
   "metadata": {
    "execution": {
     "iopub.execute_input": "2025-09-15T19:36:59.210394Z",
     "iopub.status.busy": "2025-09-15T19:36:59.210185Z",
     "iopub.status.idle": "2025-09-15T19:36:59.220647Z",
     "shell.execute_reply": "2025-09-15T19:36:59.219927Z"
    },
    "papermill": {
     "duration": 0.015848,
     "end_time": "2025-09-15T19:36:59.221796",
     "exception": false,
     "start_time": "2025-09-15T19:36:59.205948",
     "status": "completed"
    },
    "tags": []
   },
   "outputs": [],
   "source": [
    "def train_model_fixed(\n",
    "    model, train_loader, val_loader, optimizer, scheduler, loss_fn, device, num_epochs=5\n",
    "):\n",
    "    model.to(device)\n",
    "    best_f1 = 0.0\n",
    "    best_model_wts = copy.deepcopy(model.state_dict())\n",
    "    history = {\"train_loss\": [], \"val_loss\": [], \"val_f1\": []}\n",
    "    \n",
    "    # Calculate steps per epoch\n",
    "    steps_per_epoch = len(train_loader)\n",
    "    eval_every = max(5, steps_per_epoch // 4)  # Evaluate 4 times per epoch, minimum every 5 batches\n",
    "    \n",
    "    print(f\"Steps per epoch: {steps_per_epoch}\")\n",
    "    print(f\"Will evaluate every {eval_every} batches\")\n",
    "    \n",
    "    global_step = 0\n",
    "    \n",
    "    for epoch in range(num_epochs):\n",
    "        print(f\"\\nEpoch {epoch + 1}/{num_epochs}\")\n",
    "        print(\"-\" * 50)\n",
    "        \n",
    "        # Training phase\n",
    "        model.train()\n",
    "        epoch_loss = 0.0\n",
    "        epoch_correct = 0\n",
    "        epoch_total = 0\n",
    "        \n",
    "        for batch_idx, (images, labels) in enumerate(tqdm(train_loader, desc=\"Training\")):\n",
    "            images, labels = images.to(device), labels.to(device)\n",
    "            \n",
    "            optimizer.zero_grad()\n",
    "            outputs = model(images)\n",
    "            loss = loss_fn(outputs, labels)\n",
    "            loss.backward()\n",
    "            optimizer.step()\n",
    "            \n",
    "            # Track metrics\n",
    "            epoch_loss += loss.item()\n",
    "            _, preds = torch.max(outputs, 1)\n",
    "            epoch_correct += (preds == labels).sum().item()\n",
    "            epoch_total += labels.size(0)\n",
    "            \n",
    "            global_step += 1\n",
    "            \n",
    "            # Evaluate periodically\n",
    "            if global_step % eval_every == 0:\n",
    "                # Validation phase\n",
    "                model.eval()\n",
    "                val_loss = 0.0\n",
    "                val_correct = 0\n",
    "                val_total = 0\n",
    "                all_labels = []\n",
    "                all_preds = []\n",
    "                \n",
    "                with torch.no_grad():\n",
    "                    for val_images, val_labels in val_loader:\n",
    "                        val_images, val_labels = val_images.to(device), val_labels.to(device)\n",
    "                        \n",
    "                        val_outputs = model(val_images)\n",
    "                        val_loss += loss_fn(val_outputs, val_labels).item()\n",
    "                        \n",
    "                        _, val_pred = torch.max(val_outputs, 1)\n",
    "                        val_correct += (val_pred == val_labels).sum().item()\n",
    "                        val_total += val_labels.size(0)\n",
    "                        \n",
    "                        all_labels.extend(val_labels.cpu().numpy())\n",
    "                        all_preds.extend(val_pred.cpu().numpy())\n",
    "                \n",
    "                val_loss /= len(val_loader)\n",
    "                val_f1 = f1_score(all_labels, all_preds, average=\"weighted\")\n",
    "                \n",
    "                # Save best model\n",
    "                if val_f1 > best_f1:\n",
    "                    best_f1 = val_f1\n",
    "                    best_model_wts = copy.deepcopy(model.state_dict())\n",
    "                    print(f\"📈 New best F1: {best_f1:.4f}\")\n",
    "                \n",
    "                # Calculate current training metrics\n",
    "                current_train_loss = epoch_loss / (batch_idx + 1)\n",
    "                current_train_acc = epoch_correct / epoch_total\n",
    "                val_acc = val_correct / val_total\n",
    "                \n",
    "                print(f\"Step {global_step}: Train Loss: {current_train_loss:.4f}, Train Acc: {current_train_acc:.4f}\")\n",
    "                print(f\"Val Loss: {val_loss:.4f}, Val Acc: {val_acc:.4f}, Val F1: {val_f1:.4f}\")\n",
    "                \n",
    "                history[\"train_loss\"].append(current_train_loss)\n",
    "                history[\"val_loss\"].append(val_loss)\n",
    "                history[\"val_f1\"].append(val_f1)\n",
    "                \n",
    "                model.train()  # Back to training mode\n",
    "        \n",
    "        # End of epoch metrics\n",
    "        epoch_loss /= len(train_loader)\n",
    "        epoch_acc = epoch_correct / epoch_total\n",
    "        print(f\"Epoch {epoch + 1} completed - Train Loss: {epoch_loss:.4f}, Train Acc: {epoch_acc:.4f}\")\n",
    "        \n",
    "        scheduler.step()\n",
    "        print(f\"Learning rate: {optimizer.param_groups[0]['lr']:.2e}\")\n",
    "    \n",
    "    print(f\"\\nTraining complete! Best F1 Score: {best_f1:.4f}\")\n",
    "    return best_model_wts, history\n",
    "\n"
   ]
  },
  {
   "cell_type": "code",
   "execution_count": 6,
   "id": "4c9f3b8d",
   "metadata": {
    "execution": {
     "iopub.execute_input": "2025-09-15T19:36:59.228824Z",
     "iopub.status.busy": "2025-09-15T19:36:59.228620Z",
     "iopub.status.idle": "2025-09-15T19:37:55.261070Z",
     "shell.execute_reply": "2025-09-15T19:37:55.260066Z"
    },
    "papermill": {
     "duration": 56.037397,
     "end_time": "2025-09-15T19:37:55.262420",
     "exception": false,
     "start_time": "2025-09-15T19:36:59.225023",
     "status": "completed"
    },
    "tags": []
   },
   "outputs": [
    {
     "name": "stdout",
     "output_type": "stream",
     "text": [
      "Steps per epoch: 22\n",
      "Will evaluate every 5 batches\n",
      "\n",
      "Epoch 1/5\n",
      "--------------------------------------------------\n"
     ]
    },
    {
     "name": "stderr",
     "output_type": "stream",
     "text": [
      "Training:  23%|██▎       | 5/22 [00:04<00:17,  1.03s/it]"
     ]
    },
    {
     "name": "stdout",
     "output_type": "stream",
     "text": [
      "📈 New best F1: 0.6512\n",
      "Step 5: Train Loss: 4.5344, Train Acc: 0.6312\n",
      "Val Loss: 5.1813, Val Acc: 0.6767, Val F1: 0.6512\n"
     ]
    },
    {
     "name": "stderr",
     "output_type": "stream",
     "text": [
      "Training:  45%|████▌     | 10/22 [00:07<00:08,  1.40it/s]"
     ]
    },
    {
     "name": "stdout",
     "output_type": "stream",
     "text": [
      "📈 New best F1: 0.7997\n",
      "Step 10: Train Loss: 3.6988, Train Acc: 0.7312\n",
      "Val Loss: 4.2666, Val Acc: 0.8067, Val F1: 0.7997\n"
     ]
    },
    {
     "name": "stderr",
     "output_type": "stream",
     "text": [
      "Training:  68%|██████▊   | 15/22 [00:09<00:04,  1.54it/s]"
     ]
    },
    {
     "name": "stdout",
     "output_type": "stream",
     "text": [
      "Step 15: Train Loss: 2.9007, Train Acc: 0.7854\n",
      "Val Loss: 10.2795, Val Acc: 0.7467, Val F1: 0.7293\n"
     ]
    },
    {
     "name": "stderr",
     "output_type": "stream",
     "text": [
      "Training:  91%|█████████ | 20/22 [00:11<00:01,  1.55it/s]"
     ]
    },
    {
     "name": "stdout",
     "output_type": "stream",
     "text": [
      "Step 20: Train Loss: 2.5356, Train Acc: 0.8094\n",
      "Val Loss: 16.3106, Val Acc: 0.6633, Val F1: 0.6222\n"
     ]
    },
    {
     "name": "stderr",
     "output_type": "stream",
     "text": [
      "Training: 100%|██████████| 22/22 [00:12<00:00,  1.81it/s]\n"
     ]
    },
    {
     "name": "stdout",
     "output_type": "stream",
     "text": [
      "Epoch 1 completed - Train Loss: 2.5475, Train Acc: 0.8129\n",
      "Learning rate: 1.00e-03\n",
      "\n",
      "Epoch 2/5\n",
      "--------------------------------------------------\n"
     ]
    },
    {
     "name": "stderr",
     "output_type": "stream",
     "text": [
      "Training:  14%|█▎        | 3/22 [00:02<00:15,  1.24it/s]"
     ]
    },
    {
     "name": "stdout",
     "output_type": "stream",
     "text": [
      "Step 25: Train Loss: 0.3152, Train Acc: 0.9479\n",
      "Val Loss: 11.1579, Val Acc: 0.7500, Val F1: 0.7369\n"
     ]
    },
    {
     "name": "stderr",
     "output_type": "stream",
     "text": [
      "Training:  36%|███▋      | 8/22 [00:04<00:09,  1.47it/s]"
     ]
    },
    {
     "name": "stdout",
     "output_type": "stream",
     "text": [
      "📈 New best F1: 0.9299\n",
      "Step 30: Train Loss: 1.0344, Train Acc: 0.9023\n",
      "Val Loss: 1.7361, Val Acc: 0.9300, Val F1: 0.9299\n"
     ]
    },
    {
     "name": "stderr",
     "output_type": "stream",
     "text": [
      "Training:  59%|█████▉    | 13/22 [00:06<00:05,  1.55it/s]"
     ]
    },
    {
     "name": "stdout",
     "output_type": "stream",
     "text": [
      "Step 35: Train Loss: 1.1111, Train Acc: 0.9087\n",
      "Val Loss: 2.6713, Val Acc: 0.8900, Val F1: 0.8888\n"
     ]
    },
    {
     "name": "stderr",
     "output_type": "stream",
     "text": [
      "Training:  82%|████████▏ | 18/22 [00:09<00:02,  1.49it/s]"
     ]
    },
    {
     "name": "stdout",
     "output_type": "stream",
     "text": [
      "📈 New best F1: 0.9331\n",
      "Step 40: Train Loss: 1.0426, Train Acc: 0.9167\n",
      "Val Loss: 1.4181, Val Acc: 0.9333, Val F1: 0.9331\n"
     ]
    },
    {
     "name": "stderr",
     "output_type": "stream",
     "text": [
      "Training: 100%|██████████| 22/22 [00:10<00:00,  2.17it/s]\n"
     ]
    },
    {
     "name": "stdout",
     "output_type": "stream",
     "text": [
      "Epoch 2 completed - Train Loss: 0.8943, Train Acc: 0.9271\n",
      "Learning rate: 5.00e-04\n",
      "\n",
      "Epoch 3/5\n",
      "--------------------------------------------------\n"
     ]
    },
    {
     "name": "stderr",
     "output_type": "stream",
     "text": [
      "Training:   5%|▍         | 1/22 [00:01<00:36,  1.75s/it]"
     ]
    },
    {
     "name": "stdout",
     "output_type": "stream",
     "text": [
      "📈 New best F1: 0.9433\n",
      "Step 45: Train Loss: 0.0004, Train Acc: 1.0000\n",
      "Val Loss: 0.5555, Val Acc: 0.9433, Val F1: 0.9433\n"
     ]
    },
    {
     "name": "stderr",
     "output_type": "stream",
     "text": [
      "Training:  27%|██▋       | 6/22 [00:04<00:11,  1.35it/s]"
     ]
    },
    {
     "name": "stdout",
     "output_type": "stream",
     "text": [
      "📈 New best F1: 0.9533\n",
      "Step 50: Train Loss: 0.0182, Train Acc: 0.9896\n",
      "Val Loss: 0.3515, Val Acc: 0.9533, Val F1: 0.9533\n"
     ]
    },
    {
     "name": "stderr",
     "output_type": "stream",
     "text": [
      "Training:  50%|█████     | 11/22 [00:06<00:07,  1.45it/s]"
     ]
    },
    {
     "name": "stdout",
     "output_type": "stream",
     "text": [
      "📈 New best F1: 0.9567\n",
      "Step 55: Train Loss: 0.0156, Train Acc: 0.9915\n",
      "Val Loss: 0.2700, Val Acc: 0.9567, Val F1: 0.9567\n"
     ]
    },
    {
     "name": "stderr",
     "output_type": "stream",
     "text": [
      "Training:  73%|███████▎  | 16/22 [00:09<00:04,  1.45it/s]"
     ]
    },
    {
     "name": "stdout",
     "output_type": "stream",
     "text": [
      "📈 New best F1: 0.9633\n",
      "Step 60: Train Loss: 0.1930, Train Acc: 0.9766\n",
      "Val Loss: 0.2344, Val Acc: 0.9633, Val F1: 0.9633\n"
     ]
    },
    {
     "name": "stderr",
     "output_type": "stream",
     "text": [
      "Training:  95%|█████████▌| 21/22 [00:11<00:00,  1.49it/s]"
     ]
    },
    {
     "name": "stdout",
     "output_type": "stream",
     "text": [
      "Step 65: Train Loss: 0.1959, Train Acc: 0.9762\n",
      "Val Loss: 0.2749, Val Acc: 0.9500, Val F1: 0.9499\n"
     ]
    },
    {
     "name": "stderr",
     "output_type": "stream",
     "text": [
      "Training: 100%|██████████| 22/22 [00:11<00:00,  1.89it/s]\n"
     ]
    },
    {
     "name": "stdout",
     "output_type": "stream",
     "text": [
      "Epoch 3 completed - Train Loss: 0.2057, Train Acc: 0.9743\n",
      "Learning rate: 5.00e-04\n",
      "\n",
      "Epoch 4/5\n",
      "--------------------------------------------------\n"
     ]
    },
    {
     "name": "stderr",
     "output_type": "stream",
     "text": [
      "Training:  18%|█▊        | 4/22 [00:02<00:13,  1.32it/s]"
     ]
    },
    {
     "name": "stdout",
     "output_type": "stream",
     "text": [
      "Step 70: Train Loss: 0.0950, Train Acc: 0.9844\n",
      "Val Loss: 0.3874, Val Acc: 0.9333, Val F1: 0.9330\n"
     ]
    },
    {
     "name": "stderr",
     "output_type": "stream",
     "text": [
      "Training:  41%|████      | 9/22 [00:04<00:08,  1.48it/s]"
     ]
    },
    {
     "name": "stdout",
     "output_type": "stream",
     "text": [
      "Step 75: Train Loss: 0.0590, Train Acc: 0.9896\n",
      "Val Loss: 0.2615, Val Acc: 0.9533, Val F1: 0.9532\n"
     ]
    },
    {
     "name": "stderr",
     "output_type": "stream",
     "text": [
      "Training:  64%|██████▎   | 14/22 [00:07<00:05,  1.52it/s]"
     ]
    },
    {
     "name": "stdout",
     "output_type": "stream",
     "text": [
      "Step 80: Train Loss: 0.0684, Train Acc: 0.9844\n",
      "Val Loss: 0.4212, Val Acc: 0.9333, Val F1: 0.9331\n"
     ]
    },
    {
     "name": "stderr",
     "output_type": "stream",
     "text": [
      "Training:  86%|████████▋ | 19/22 [00:09<00:01,  1.52it/s]"
     ]
    },
    {
     "name": "stdout",
     "output_type": "stream",
     "text": [
      "Step 85: Train Loss: 0.0540, Train Acc: 0.9852\n",
      "Val Loss: 0.4194, Val Acc: 0.9200, Val F1: 0.9196\n"
     ]
    },
    {
     "name": "stderr",
     "output_type": "stream",
     "text": [
      "Training: 100%|██████████| 22/22 [00:10<00:00,  2.16it/s]\n"
     ]
    },
    {
     "name": "stdout",
     "output_type": "stream",
     "text": [
      "Epoch 4 completed - Train Loss: 0.0727, Train Acc: 0.9814\n",
      "Learning rate: 2.50e-04\n",
      "\n",
      "Epoch 5/5\n",
      "--------------------------------------------------\n"
     ]
    },
    {
     "name": "stderr",
     "output_type": "stream",
     "text": [
      "Training:   9%|▉         | 2/22 [00:01<00:19,  1.01it/s]"
     ]
    },
    {
     "name": "stdout",
     "output_type": "stream",
     "text": [
      "Step 90: Train Loss: 0.1457, Train Acc: 0.9375\n",
      "Val Loss: 0.3156, Val Acc: 0.9400, Val F1: 0.9398\n"
     ]
    },
    {
     "name": "stderr",
     "output_type": "stream",
     "text": [
      "Training:  32%|███▏      | 7/22 [00:04<00:10,  1.46it/s]"
     ]
    },
    {
     "name": "stdout",
     "output_type": "stream",
     "text": [
      "Step 95: Train Loss: 0.0555, Train Acc: 0.9732\n",
      "Val Loss: 0.1302, Val Acc: 0.9633, Val F1: 0.9633\n"
     ]
    },
    {
     "name": "stderr",
     "output_type": "stream",
     "text": [
      "Training:  55%|█████▍    | 12/22 [00:06<00:06,  1.46it/s]"
     ]
    },
    {
     "name": "stdout",
     "output_type": "stream",
     "text": [
      "📈 New best F1: 0.9767\n",
      "Step 100: Train Loss: 0.0332, Train Acc: 0.9844\n",
      "Val Loss: 0.0657, Val Acc: 0.9767, Val F1: 0.9767\n"
     ]
    },
    {
     "name": "stderr",
     "output_type": "stream",
     "text": [
      "Training:  77%|███████▋  | 17/22 [00:09<00:03,  1.48it/s]"
     ]
    },
    {
     "name": "stdout",
     "output_type": "stream",
     "text": [
      "📈 New best F1: 0.9800\n",
      "Step 105: Train Loss: 0.0363, Train Acc: 0.9853\n",
      "Val Loss: 0.0609, Val Acc: 0.9800, Val F1: 0.9800\n"
     ]
    },
    {
     "name": "stderr",
     "output_type": "stream",
     "text": [
      "Training: 100%|██████████| 22/22 [00:11<00:00,  1.94it/s]"
     ]
    },
    {
     "name": "stdout",
     "output_type": "stream",
     "text": [
      "Step 110: Train Loss: 0.0321, Train Acc: 0.9871\n",
      "Val Loss: 0.0669, Val Acc: 0.9800, Val F1: 0.9800\n",
      "Epoch 5 completed - Train Loss: 0.0321, Train Acc: 0.9871\n",
      "Learning rate: 2.50e-04\n",
      "\n",
      "Training complete! Best F1 Score: 0.9800\n",
      "Best model loaded!\n"
     ]
    },
    {
     "name": "stderr",
     "output_type": "stream",
     "text": [
      "\n"
     ]
    }
   ],
   "source": [
    "best_model_wts, history = train_model_fixed(\n",
    "    model=model,\n",
    "    train_loader=train_dataloader,\n",
    "    val_loader=val_dataloader,\n",
    "    optimizer=optimizer,\n",
    "    scheduler=scheduler,\n",
    "    loss_fn=loss_fn,\n",
    "    device=device,\n",
    "    num_epochs=NUM_EPOCHS\n",
    ")\n",
    "\n",
    "# Load best weights\n",
    "model.load_state_dict(best_model_wts)\n",
    "print(\"Best model loaded!\")\n"
   ]
  },
  {
   "cell_type": "code",
   "execution_count": 7,
   "id": "05095142",
   "metadata": {
    "execution": {
     "iopub.execute_input": "2025-09-15T19:37:55.281581Z",
     "iopub.status.busy": "2025-09-15T19:37:55.281318Z",
     "iopub.status.idle": "2025-09-15T19:37:56.415311Z",
     "shell.execute_reply": "2025-09-15T19:37:56.414258Z"
    },
    "papermill": {
     "duration": 1.144811,
     "end_time": "2025-09-15T19:37:56.416506",
     "exception": false,
     "start_time": "2025-09-15T19:37:55.271695",
     "status": "completed"
    },
    "tags": []
   },
   "outputs": [
    {
     "name": "stdout",
     "output_type": "stream",
     "text": [
      "Final Validation - Accuracy: 0.9800, F1: 0.9800\n"
     ]
    }
   ],
   "source": [
    "# Quick evaluation on validation set\n",
    "model.eval()\n",
    "val_correct = 0\n",
    "val_total = 0\n",
    "all_preds = []\n",
    "all_labels = []\n",
    "\n",
    "with torch.no_grad():\n",
    "    for images, labels in val_dataloader:\n",
    "        images, labels = images.to(device), labels.to(device)\n",
    "        outputs = model(images)\n",
    "        _, preds = torch.max(outputs, 1)\n",
    "        val_correct += (preds == labels).sum().item()\n",
    "        val_total += labels.size(0)\n",
    "        all_preds.extend(preds.cpu().numpy())\n",
    "        all_labels.extend(labels.cpu().numpy())\n",
    "\n",
    "final_acc = val_correct / val_total\n",
    "final_f1 = f1_score(all_labels, all_preds, average=\"weighted\")\n",
    "print(f\"Final Validation - Accuracy: {final_acc:.4f}, F1: {final_f1:.4f}\")\n"
   ]
  },
  {
   "cell_type": "code",
   "execution_count": 8,
   "id": "1b063101",
   "metadata": {
    "execution": {
     "iopub.execute_input": "2025-09-15T19:37:56.435961Z",
     "iopub.status.busy": "2025-09-15T19:37:56.435682Z",
     "iopub.status.idle": "2025-09-15T19:37:56.957704Z",
     "shell.execute_reply": "2025-09-15T19:37:56.957037Z"
    },
    "papermill": {
     "duration": 0.533473,
     "end_time": "2025-09-15T19:37:56.959440",
     "exception": false,
     "start_time": "2025-09-15T19:37:56.425967",
     "status": "completed"
    },
    "tags": []
   },
   "outputs": [
    {
     "data": {
      "image/png": "[encoded data removed]",
      "text/plain": [
       "<Figure size 1500x500 with 3 Axes>"
      ]
     },
     "metadata": {},
     "output_type": "display_data"
    }
   ],
   "source": [
    "import matplotlib.pyplot as plt\n",
    "\n",
    "def plot_training_history(history):\n",
    "    if not history[\"val_f1\"]:\n",
    "        print(\"No training history to plot\")\n",
    "        return\n",
    "    \n",
    "    fig, axes = plt.subplots(1, 3, figsize=(15, 5))\n",
    "    steps = range(1, len(history[\"train_loss\"]) + 1)\n",
    "    \n",
    "    # Training loss\n",
    "    axes[0].plot(steps, history[\"train_loss\"], 'b-o', label='Train Loss')\n",
    "    axes[0].set_title('Training Loss')\n",
    "    axes[0].set_xlabel('Evaluation Step')\n",
    "    axes[0].set_ylabel('Loss')\n",
    "    axes[0].grid(True)\n",
    "    axes[0].legend()\n",
    "    \n",
    "    # Validation loss\n",
    "    axes[1].plot(steps, history[\"val_loss\"], 'r-o', label='Val Loss')\n",
    "    axes[1].set_title('Validation Loss')\n",
    "    axes[1].set_xlabel('Evaluation Step')\n",
    "    axes[1].set_ylabel('Loss')\n",
    "    axes[1].grid(True)\n",
    "    axes[1].legend()\n",
    "    \n",
    "    # F1 Score\n",
    "    axes[2].plot(steps, history[\"val_f1\"], 'g-o', label='Val F1')\n",
    "    axes[2].set_title('Validation F1 Score')\n",
    "    axes[2].set_xlabel('Evaluation Step')\n",
    "    axes[2].set_ylabel('F1 Score')\n",
    "    axes[2].grid(True)\n",
    "    axes[2].legend()\n",
    "    \n",
    "    plt.tight_layout()\n",
    "    plt.show()\n",
    "\n",
    "plot_training_history(history)"
   ]
  },
  {
   "cell_type": "markdown",
   "id": "1ca16dce",
   "metadata": {
    "papermill": {
     "duration": 0.009587,
     "end_time": "2025-09-15T19:37:56.979840",
     "exception": false,
     "start_time": "2025-09-15T19:37:56.970253",
     "status": "completed"
    },
    "tags": []
   },
   "source": [
    "# Prediction"
   ]
  },
  {
   "cell_type": "code",
   "execution_count": 9,
   "id": "126ab79d",
   "metadata": {
    "execution": {
     "iopub.execute_input": "2025-09-15T19:37:57.000327Z",
     "iopub.status.busy": "2025-09-15T19:37:57.000063Z",
     "iopub.status.idle": "2025-09-15T19:37:57.026424Z",
     "shell.execute_reply": "2025-09-15T19:37:57.025934Z"
    },
    "papermill": {
     "duration": 0.038013,
     "end_time": "2025-09-15T19:37:57.027648",
     "exception": false,
     "start_time": "2025-09-15T19:37:56.989635",
     "status": "completed"
    },
    "tags": []
   },
   "outputs": [],
   "source": [
    "# Load the test CSV for predictions\n",
    "test_csv_path = \"/kaggle/input/ai-vs-human-generated-dataset/test.csv\"\n",
    "test_df = pd.read_csv(test_csv_path)\n",
    "\n",
    "# Define the base directory where images are stored\n",
    "test_data_dir = \"/kaggle/input/ai-vs-human-generated-dataset\"\n",
    "\n",
    "# Update image paths in the test dataframe\n",
    "test_df['img_path'] = test_df['id'].apply(lambda x: os.path.join(test_data_dir, x))"
   ]
  },
  {
   "cell_type": "code",
   "execution_count": 10,
   "id": "0f937e96",
   "metadata": {
    "execution": {
     "iopub.execute_input": "2025-09-15T19:37:57.048832Z",
     "iopub.status.busy": "2025-09-15T19:37:57.048588Z",
     "iopub.status.idle": "2025-09-15T19:42:53.008138Z",
     "shell.execute_reply": "2025-09-15T19:42:53.007206Z"
    },
    "papermill": {
     "duration": 295.971657,
     "end_time": "2025-09-15T19:42:53.009478",
     "exception": false,
     "start_time": "2025-09-15T19:37:57.037821",
     "status": "completed"
    },
    "tags": []
   },
   "outputs": [
    {
     "name": "stderr",
     "output_type": "stream",
     "text": [
      "100%|██████████| 5540/5540 [04:55<00:00, 18.72it/s]"
     ]
    },
    {
     "name": "stdout",
     "output_type": "stream",
     "text": [
      "CPU times: user 3min 36s, sys: 8.61 s, total: 3min 44s\n",
      "Wall time: 4min 55s\n"
     ]
    },
    {
     "name": "stderr",
     "output_type": "stream",
     "text": [
      "\n"
     ]
    }
   ],
   "source": [
    "%%time\n",
    "\n",
    "# Initialize a list to store results\n",
    "predictions = []\n",
    "\n",
    "# Perform inference on test images\n",
    "for idx, row in tqdm(test_df.iterrows(), total=len(test_df)):\n",
    "    # if idx==100:\n",
    "    #     break\n",
    "    \n",
    "    img_path = row['img_path']  # Path to the image\n",
    "    id_ = row['id']\n",
    "    try:\n",
    "        # Open and preprocess image\n",
    "        image = np.array(Image.open(img_path).convert(\"RGB\"))\n",
    "        input_tensor = val_transform(image=image)['image'].unsqueeze(0).to(device)  # Add batch dimension\n",
    "\n",
    "        # Model prediction\n",
    "        with torch.no_grad():\n",
    "            outputs = model(input_tensor)\n",
    "            predicted_label = torch.argmax(outputs, dim=-1).item()  # Get predicted class\n",
    "\n",
    "        predictions.append((id_, predicted_label))\n",
    "    except Exception as e:\n",
    "        print(f\"Error processing {img_path}: {e}\")\n"
   ]
  },
  {
   "cell_type": "code",
   "execution_count": 11,
   "id": "c62c0ea2",
   "metadata": {
    "execution": {
     "iopub.execute_input": "2025-09-15T19:42:53.191103Z",
     "iopub.status.busy": "2025-09-15T19:42:53.190765Z",
     "iopub.status.idle": "2025-09-15T19:42:53.213130Z",
     "shell.execute_reply": "2025-09-15T19:42:53.212440Z"
    },
    "papermill": {
     "duration": 0.113887,
     "end_time": "2025-09-15T19:42:53.214249",
     "exception": false,
     "start_time": "2025-09-15T19:42:53.100362",
     "status": "completed"
    },
    "tags": []
   },
   "outputs": [
    {
     "name": "stdout",
     "output_type": "stream",
     "text": [
      "Submission file saved at submission.csv\n"
     ]
    }
   ],
   "source": [
    "# Create a DataFrame for submission\n",
    "submission_df = pd.DataFrame(predictions, columns=[\"id\", \"label\"])\n",
    "\n",
    "# # Save to CSV for submission\n",
    "submission_csv_path = \"submission.csv\"\n",
    "submission_df.to_csv(submission_csv_path, index=False)\n",
    "print(f\"Submission file saved at {submission_csv_path}\")"
   ]
  },
  {
   "cell_type": "code",
   "execution_count": 12,
   "id": "35afc264",
   "metadata": {
    "execution": {
     "iopub.execute_input": "2025-09-15T19:42:53.396364Z",
     "iopub.status.busy": "2025-09-15T19:42:53.395663Z",
     "iopub.status.idle": "2025-09-15T19:42:53.405336Z",
     "shell.execute_reply": "2025-09-15T19:42:53.404709Z"
    },
    "papermill": {
     "duration": 0.102671,
     "end_time": "2025-09-15T19:42:53.406366",
     "exception": false,
     "start_time": "2025-09-15T19:42:53.303695",
     "status": "completed"
    },
    "tags": []
   },
   "outputs": [
    {
     "data": {
      "text/plain": [
       "label\n",
       "0    4800\n",
       "1     740\n",
       "Name: count, dtype: int64"
      ]
     },
     "execution_count": 12,
     "metadata": {},
     "output_type": "execute_result"
    }
   ],
   "source": [
    "value_counts = submission_df['label'].value_counts()\n",
    "value_counts"
   ]
  },
  {
   "cell_type": "code",
   "execution_count": 13,
   "id": "986454fb",
   "metadata": {
    "execution": {
     "iopub.execute_input": "2025-09-15T19:42:53.584765Z",
     "iopub.status.busy": "2025-09-15T19:42:53.584206Z",
     "iopub.status.idle": "2025-09-15T19:42:53.598906Z",
     "shell.execute_reply": "2025-09-15T19:42:53.598327Z"
    },
    "papermill": {
     "duration": 0.104481,
     "end_time": "2025-09-15T19:42:53.599973",
     "exception": false,
     "start_time": "2025-09-15T19:42:53.495492",
     "status": "completed"
    },
    "tags": []
   },
   "outputs": [
    {
     "data": {
      "text/html": [
       "<div>\n",
       "<style scoped>\n",
       "    .dataframe tbody tr th:only-of-type {\n",
       "        vertical-align: middle;\n",
       "    }\n",
       "\n",
       "    .dataframe tbody tr th {\n",
       "        vertical-align: top;\n",
       "    }\n",
       "\n",
       "    .dataframe thead th {\n",
       "        text-align: right;\n",
       "    }\n",
       "</style>\n",
       "<table border=\"1\" class=\"dataframe\">\n",
       "  <thead>\n",
       "    <tr style=\"text-align: right;\">\n",
       "      <th></th>\n",
       "      <th>id</th>\n",
       "      <th>label</th>\n",
       "    </tr>\n",
       "  </thead>\n",
       "  <tbody>\n",
       "    <tr>\n",
       "      <th>0</th>\n",
       "      <td>test_data_v2/1a2d9fd3e21b4266aea1f66b30aed157.jpg</td>\n",
       "      <td>1</td>\n",
       "    </tr>\n",
       "    <tr>\n",
       "      <th>1</th>\n",
       "      <td>test_data_v2/ab5df8f441fe4fbf9dc9c6baae699dc7.jpg</td>\n",
       "      <td>0</td>\n",
       "    </tr>\n",
       "    <tr>\n",
       "      <th>2</th>\n",
       "      <td>test_data_v2/eb364dd2dfe34feda0e52466b7ce7956.jpg</td>\n",
       "      <td>0</td>\n",
       "    </tr>\n",
       "    <tr>\n",
       "      <th>3</th>\n",
       "      <td>test_data_v2/f76c2580e9644d85a741a42c6f6b39c0.jpg</td>\n",
       "      <td>0</td>\n",
       "    </tr>\n",
       "    <tr>\n",
       "      <th>4</th>\n",
       "      <td>test_data_v2/a16495c578b7494683805484ca27cf9f.jpg</td>\n",
       "      <td>0</td>\n",
       "    </tr>\n",
       "  </tbody>\n",
       "</table>\n",
       "</div>"
      ],
      "text/plain": [
       "                                                  id  label\n",
       "0  test_data_v2/1a2d9fd3e21b4266aea1f66b30aed157.jpg      1\n",
       "1  test_data_v2/ab5df8f441fe4fbf9dc9c6baae699dc7.jpg      0\n",
       "2  test_data_v2/eb364dd2dfe34feda0e52466b7ce7956.jpg      0\n",
       "3  test_data_v2/f76c2580e9644d85a741a42c6f6b39c0.jpg      0\n",
       "4  test_data_v2/a16495c578b7494683805484ca27cf9f.jpg      0"
      ]
     },
     "execution_count": 13,
     "metadata": {},
     "output_type": "execute_result"
    }
   ],
   "source": [
    "submission_df.head()"
   ]
  },
  {
   "cell_type": "code",
   "execution_count": null,
   "id": "d1622a8e",
   "metadata": {
    "papermill": {
     "duration": 0.087521,
     "end_time": "2025-09-15T19:42:53.776306",
     "exception": false,
     "start_time": "2025-09-15T19:42:53.688785",
     "status": "completed"
    },
    "tags": []
   },
   "outputs": [],
   "source": []
  }
 ],
 "metadata": {
  "kaggle": {
   "accelerator": "gpu",
   "dataSources": [
    {
     "databundleVersionId": 10884264,
     "sourceId": 91198,
     "sourceType": "competition"
    },
    {
     "datasetId": 6412205,
     "sourceId": 10550636,
     "sourceType": "datasetVersion"
    }
   ],
   "isGpuEnabled": true,
   "isInternetEnabled": true,
   "language": "python",
   "sourceType": "notebook"
  },
  "kernelspec": {
   "display_name": "Python 3",
   "language": "python",
   "name": "python3"
  },
  "language_info": {
   "codemirror_mode": {
    "name": "ipython",
    "version": 3
   },
   "file_extension": ".py",
   "mimetype": "text/x-python",
   "name": "python",
   "nbconvert_exporter": "python",
   "pygments_lexer": "ipython3",
   "version": "3.11.13"
  },
  "papermill": {
   "default_parameters": {},
   "duration": 380.414526,
   "end_time": "2025-09-15T19:42:56.484087",
   "environment_variables": {},
   "exception": null,
   "input_path": "__notebook__.ipynb",
   "output_path": "__notebook__.ipynb",
   "parameters": {},
   "start_time": "2025-09-15T19:36:36.069561",
   "version": "2.6.0"
  },
  "widgets": {
   "application/vnd.jupyter.widget-state+json": {
    "state": {
     "002b94e6bb3d40c48f6c0db7492dacca": {
      "model_module": "@jupyter-widgets/base",
      "model_module_version": "2.0.0",
      "model_name": "LayoutModel",
      "state": {
       "_model_module": "@jupyter-widgets/base",
       "_model_module_version": "2.0.0",
       "_model_name": "LayoutModel",
       "_view_count": null,
       "_view_module": "@jupyter-widgets/base",
       "_view_module_version": "2.0.0",
       "_view_name": "LayoutView",
       "align_content": null,
       "align_items": null,
       "align_self": null,
       "border_bottom": null,
       "border_left": null,
       "border_right": null,
       "border_top": null,
       "bottom": null,
       "display": null,
       "flex": null,
       "flex_flow": null,
       "grid_area": null,
       "grid_auto_columns": null,
       "grid_auto_flow": null,
       "grid_auto_rows": null,
       "grid_column": null,
       "grid_gap": null,
       "grid_row": null,
       "grid_template_areas": null,
       "grid_template_columns": null,
       "grid_template_rows": null,
       "height": null,
       "justify_content": null,
       "justify_items": null,
       "left": null,
       "margin": null,
       "max_height": null,
       "max_width": null,
       "min_height": null,
       "min_width": null,
       "object_fit": null,
       "object_position": null,
       "order": null,
       "overflow": null,
       "padding": null,
       "right": null,
       "top": null,
       "visibility": null,
       "width": null
      }
     },
     "1fb4ba7f8d374718be6bfd4ede3b7bed": {
      "model_module": "@jupyter-widgets/base",
      "model_module_version": "2.0.0",
      "model_name": "LayoutModel",
      "state": {
       "_model_module": "@jupyter-widgets/base",
       "_model_module_version": "2.0.0",
       "_model_name": "LayoutModel",
       "_view_count": null,
       "_view_module": "@jupyter-widgets/base",
       "_view_module_version": "2.0.0",
       "_view_name": "LayoutView",
       "align_content": null,
       "align_items": null,
       "align_self": null,
       "border_bottom": null,
       "border_left": null,
       "border_right": null,
       "border_top": null,
       "bottom": null,
       "display": null,
       "flex": null,
       "flex_flow": null,
       "grid_area": null,
       "grid_auto_columns": null,
       "grid_auto_flow": null,
       "grid_auto_rows": null,
       "grid_column": null,
       "grid_gap": null,
       "grid_row": null,
       "grid_template_areas": null,
       "grid_template_columns": null,
       "grid_template_rows": null,
       "height": null,
       "justify_content": null,
       "justify_items": null,
       "left": null,
       "margin": null,
       "max_height": null,
       "max_width": null,
       "min_height": null,
       "min_width": null,
       "object_fit": null,
       "object_position": null,
       "order": null,
       "overflow": null,
       "padding": null,
       "right": null,
       "top": null,
       "visibility": null,
       "width": null
      }
     },
     "20eeab6e65584636b6a4463812191848": {
      "model_module": "@jupyter-widgets/controls",
      "model_module_version": "2.0.0",
      "model_name": "HTMLStyleModel",
      "state": {
       "_model_module": "@jupyter-widgets/controls",
       "_model_module_version": "2.0.0",
       "_model_name": "HTMLStyleModel",
       "_view_count": null,
       "_view_module": "@jupyter-widgets/base",
       "_view_module_version": "2.0.0",
       "_view_name": "StyleView",
       "background": null,
       "description_width": "",
       "font_size": null,
       "text_color": null
      }
     },
     "562029d6b2994a248b4a154141245c8c": {
      "model_module": "@jupyter-widgets/controls",
      "model_module_version": "2.0.0",
      "model_name": "FloatProgressModel",
      "state": {
       "_dom_classes": [],
       "_model_module": "@jupyter-widgets/controls",
       "_model_module_version": "2.0.0",
       "_model_name": "FloatProgressModel",
       "_view_count": null,
       "_view_module": "@jupyter-widgets/controls",
       "_view_module_version": "2.0.0",
       "_view_name": "ProgressView",
       "bar_style": "success",
       "description": "",
       "description_allow_html": false,
       "layout": "IPY_MODEL_aea9f000e25a49619333c26009bb0532",
       "max": 86523256.0,
       "min": 0.0,
       "orientation": "horizontal",
       "style": "IPY_MODEL_c30cd22db369467fa7b035f25719f481",
       "tabbable": null,
       "tooltip": null,
       "value": 86523256.0
      }
     },
     "5864e93ba87d4fb686d3bedb050c7490": {
      "model_module": "@jupyter-widgets/controls",
      "model_module_version": "2.0.0",
      "model_name": "HTMLStyleModel",
      "state": {
       "_model_module": "@jupyter-widgets/controls",
       "_model_module_version": "2.0.0",
       "_model_name": "HTMLStyleModel",
       "_view_count": null,
       "_view_module": "@jupyter-widgets/base",
       "_view_module_version": "2.0.0",
       "_view_name": "StyleView",
       "background": null,
       "description_width": "",
       "font_size": null,
       "text_color": null
      }
     },
     "88e00b2c1b154a8abc362dc420cba9de": {
      "model_module": "@jupyter-widgets/controls",
      "model_module_version": "2.0.0",
      "model_name": "HBoxModel",
      "state": {
       "_dom_classes": [],
       "_model_module": "@jupyter-widgets/controls",
       "_model_module_version": "2.0.0",
       "_model_name": "HBoxModel",
       "_view_count": null,
       "_view_module": "@jupyter-widgets/controls",
       "_view_module_version": "2.0.0",
       "_view_name": "HBoxView",
       "box_style": "",
       "children": [
        "IPY_MODEL_92721300a18e4a80ab4530b30277b3f9",
        "IPY_MODEL_562029d6b2994a248b4a154141245c8c",
        "IPY_MODEL_d497fe3ce70c4429810637e0dda0683a"
       ],
       "layout": "IPY_MODEL_1fb4ba7f8d374718be6bfd4ede3b7bed",
       "tabbable": null,
       "tooltip": null
      }
     },
     "92721300a18e4a80ab4530b30277b3f9": {
      "model_module": "@jupyter-widgets/controls",
      "model_module_version": "2.0.0",
      "model_name": "HTMLModel",
      "state": {
       "_dom_classes": [],
       "_model_module": "@jupyter-widgets/controls",
       "_model_module_version": "2.0.0",
       "_model_name": "HTMLModel",
       "_view_count": null,
       "_view_module": "@jupyter-widgets/controls",
       "_view_module_version": "2.0.0",
       "_view_name": "HTMLView",
       "description": "",
       "description_allow_html": false,
       "layout": "IPY_MODEL_b08d3d6c7f3547cc986672324754ab62",
       "placeholder": "​",
       "style": "IPY_MODEL_20eeab6e65584636b6a4463812191848",
       "tabbable": null,
       "tooltip": null,
       "value": "model.safetensors: 100%"
      }
     },
     "aea9f000e25a49619333c26009bb0532": {
      "model_module": "@jupyter-widgets/base",
      "model_module_version": "2.0.0",
      "model_name": "LayoutModel",
      "state": {
       "_model_module": "@jupyter-widgets/base",
       "_model_module_version": "2.0.0",
       "_model_name": "LayoutModel",
       "_view_count": null,
       "_view_module": "@jupyter-widgets/base",
       "_view_module_version": "2.0.0",
       "_view_name": "LayoutView",
       "align_content": null,
       "align_items": null,
       "align_self": null,
       "border_bottom": null,
       "border_left": null,
       "border_right": null,
       "border_top": null,
       "bottom": null,
       "display": null,
       "flex": null,
       "flex_flow": null,
       "grid_area": null,
       "grid_auto_columns": null,
       "grid_auto_flow": null,
       "grid_auto_rows": null,
       "grid_column": null,
       "grid_gap": null,
       "grid_row": null,
       "grid_template_areas": null,
       "grid_template_columns": null,
       "grid_template_rows": null,
       "height": null,
       "justify_content": null,
       "justify_items": null,
       "left": null,
       "margin": null,
       "max_height": null,
       "max_width": null,
       "min_height": null,
       "min_width": null,
       "object_fit": null,
       "object_position": null,
       "order": null,
       "overflow": null,
       "padding": null,
       "right": null,
       "top": null,
       "visibility": null,
       "width": null
      }
     },
     "b08d3d6c7f3547cc986672324754ab62": {
      "model_module": "@jupyter-widgets/base",
      "model_module_version": "2.0.0",
      "model_name": "LayoutModel",
      "state": {
       "_model_module": "@jupyter-widgets/base",
       "_model_module_version": "2.0.0",
       "_model_name": "LayoutModel",
       "_view_count": null,
       "_view_module": "@jupyter-widgets/base",
       "_view_module_version": "2.0.0",
       "_view_name": "LayoutView",
       "align_content": null,
       "align_items": null,
       "align_self": null,
       "border_bottom": null,
       "border_left": null,
       "border_right": null,
       "border_top": null,
       "bottom": null,
       "display": null,
       "flex": null,
       "flex_flow": null,
       "grid_area": null,
       "grid_auto_columns": null,
       "grid_auto_flow": null,
       "grid_auto_rows": null,
       "grid_column": null,
       "grid_gap": null,
       "grid_row": null,
       "grid_template_areas": null,
       "grid_template_columns": null,
       "grid_template_rows": null,
       "height": null,
       "justify_content": null,
       "justify_items": null,
       "left": null,
       "margin": null,
       "max_height": null,
       "max_width": null,
       "min_height": null,
       "min_width": null,
       "object_fit": null,
       "object_position": null,
       "order": null,
       "overflow": null,
       "padding": null,
       "right": null,
       "top": null,
       "visibility": null,
       "width": null
      }
     },
     "c30cd22db369467fa7b035f25719f481": {
      "model_module": "@jupyter-widgets/controls",
      "model_module_version": "2.0.0",
      "model_name": "ProgressStyleModel",
      "state": {
       "_model_module": "@jupyter-widgets/controls",
       "_model_module_version": "2.0.0",
       "_model_name": "ProgressStyleModel",
       "_view_count": null,
       "_view_module": "@jupyter-widgets/base",
       "_view_module_version": "2.0.0",
       "_view_name": "StyleView",
       "bar_color": null,
       "description_width": ""
      }
     },
     "d497fe3ce70c4429810637e0dda0683a": {
      "model_module": "@jupyter-widgets/controls",
      "model_module_version": "2.0.0",
      "model_name": "HTMLModel",
      "state": {
       "_dom_classes": [],
       "_model_module": "@jupyter-widgets/controls",
       "_model_module_version": "2.0.0",
       "_model_name": "HTMLModel",
       "_view_count": null,
       "_view_module": "@jupyter-widgets/controls",
       "_view_module_version": "2.0.0",
       "_view_name": "HTMLView",
       "description": "",
       "description_allow_html": false,
       "layout": "IPY_MODEL_002b94e6bb3d40c48f6c0db7492dacca",
       "placeholder": "​",
       "style": "IPY_MODEL_5864e93ba87d4fb686d3bedb050c7490",
       "tabbable": null,
       "tooltip": null,
       "value": " 86.5M/86.5M [00:00&lt;00:00, 220MB/s]"
      }
     }
    },
    "version_major": 2,
    "version_minor": 0
   }
  }
 },
 "nbformat": 4,
 "nbformat_minor": 5
}
